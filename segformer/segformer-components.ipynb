{
 "cells": [
  {
   "cell_type": "code",
   "execution_count": 13,
   "metadata": {},
   "outputs": [],
   "source": [
    "import torch\n",
    "import torch.nn as nn\n",
    "import torch.nn.functional as F\n",
    "\n",
    "import math"
   ]
  },
  {
   "cell_type": "code",
   "execution_count": 8,
   "metadata": {},
   "outputs": [],
   "source": [
    "# reshaping functions\n",
    "\n",
    "def to_mlp(x):\n",
    "    B, C, H, W = x.size()\n",
    "    return x.reshape(B*H*W, C)\n",
    "\n",
    "def to_chw(x, dims):\n",
    "    B, C, H, W = dims\n",
    "    return x.reshape(B, C, H, W)"
   ]
  },
  {
   "cell_type": "code",
   "execution_count": 15,
   "metadata": {},
   "outputs": [
    {
     "data": {
      "text/plain": [
       "torch.Size([32, 64, 256, 64])"
      ]
     },
     "execution_count": 15,
     "metadata": {},
     "output_type": "execute_result"
    }
   ],
   "source": [
    "x = torch.randn(size=[32, 256, 64,64])\n",
    "\n",
    "x.transpose(1, 2).shape"
   ]
  },
  {
   "cell_type": "code",
   "execution_count": 3,
   "metadata": {},
   "outputs": [],
   "source": [
    "# overlap patch embedding\n",
    "\n",
    "class OverlapPatchEmbedding(nn.Module):\n",
    "    def __init__(self, in_channels, embbed_dim):\n",
    "        super(OverlapPatchEmbedding, self).__init__()\n",
    "\n",
    "        # input: [B, C, H, W]\n",
    "        self.c_in = in_channels\n",
    "        self.c_out = embbed_dim\n",
    "\n",
    "        self.encode = nn.Conv2d(in_channels=self.c_in, out_channels=self.c_out, kernel_size=7, stride=4, padding=3)\n",
    "\n",
    "        self.activation = nn.GELU() # added after, maybe can lead to more learning capacity\n",
    "\n",
    "        self.decode = nn.ConvTranspose2d(in_channels=self.c_out, out_channels=self.c_out, kernel_size=6, stride=4, padding=1)\n",
    "\n",
    "    \n",
    "    def forward(self, x):\n",
    "        return self.decode(self.activation(self.encode(x)))"
   ]
  },
  {
   "cell_type": "code",
   "execution_count": 18,
   "metadata": {},
   "outputs": [],
   "source": [
    "# self-attention - transformer block\n",
    "\n",
    "class SelfAttention(nn.Module):\n",
    "    def __init__(self, embedd_dim):\n",
    "        super(SelfAttention, self).__init__()\n",
    "\n",
    "        self.query_weight = nn.Linear(in_features=embedd_dim, out_features=embedd_dim)\n",
    "        self.key_weight = nn.Linear(in_features=embedd_dim, out_features=embedd_dim)\n",
    "        self.value_weight = nn.Linear(in_features=embedd_dim, out_features=embedd_dim)\n",
    "\n",
    "    \n",
    "    def forward(self, x):\n",
    "        B, C, H, W = x.size()\n",
    "\n",
    "        x = x.reshape(B, H*W, C)\n",
    "\n",
    "        # query, key and value tensors\n",
    "        q = self.query_weight(x)\n",
    "        k = self.key_weight(x)\n",
    "        v = self.value_weight(x)\n",
    "\n",
    "        scaled = torch.bmm(q, k.transpose(1, 2))\n",
    "\n",
    "        scaled = F.softmax(scaled / math.sqrt(C), dim=-1)\n",
    "\n",
    "        attention = torch.bmm(scaled, v)\n",
    "\n",
    "        return attention.reshape(B, C, H, W)\n",
    "\n",
    "\n",
    "\n"
   ]
  },
  {
   "cell_type": "code",
   "execution_count": 19,
   "metadata": {},
   "outputs": [
    {
     "data": {
      "text/plain": [
       "torch.Size([32, 256, 64, 64])"
      ]
     },
     "execution_count": 19,
     "metadata": {},
     "output_type": "execute_result"
    }
   ],
   "source": [
    "test = SelfAttention(256)\n",
    "\n",
    "test(x).shape"
   ]
  },
  {
   "cell_type": "code",
   "execution_count": null,
   "metadata": {},
   "outputs": [],
   "source": []
  }
 ],
 "metadata": {
  "kernelspec": {
   "display_name": "venv",
   "language": "python",
   "name": "python3"
  },
  "language_info": {
   "codemirror_mode": {
    "name": "ipython",
    "version": 3
   },
   "file_extension": ".py",
   "mimetype": "text/x-python",
   "name": "python",
   "nbconvert_exporter": "python",
   "pygments_lexer": "ipython3",
   "version": "3.10.7"
  }
 },
 "nbformat": 4,
 "nbformat_minor": 2
}
