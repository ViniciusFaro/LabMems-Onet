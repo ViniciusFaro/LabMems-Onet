{
 "cells": [
  {
   "cell_type": "code",
   "execution_count": 2,
   "metadata": {},
   "outputs": [],
   "source": [
    "import torch\n",
    "import torch.nn as nn\n",
    "import torch.nn.functional as F\n",
    "\n",
    "import math"
   ]
  },
  {
   "cell_type": "code",
   "execution_count": 3,
   "metadata": {},
   "outputs": [],
   "source": [
    "# reshaping functions\n",
    "\n",
    "def to_mlp(x):\n",
    "    B, C, H, W = x.size()\n",
    "    return x.reshape(B*H*W, C)\n",
    "\n",
    "def to_chw(x, dims):\n",
    "    B, C, H, W = dims\n",
    "    return x.reshape(B, C, H, W)"
   ]
  },
  {
   "cell_type": "code",
   "execution_count": 4,
   "metadata": {},
   "outputs": [
    {
     "data": {
      "text/plain": [
       "torch.Size([32, 64, 256, 64])"
      ]
     },
     "execution_count": 4,
     "metadata": {},
     "output_type": "execute_result"
    }
   ],
   "source": [
    "x = torch.randn(size=[32, 256, 64,64])\n",
    "\n",
    "x.transpose(1, 2).shape"
   ]
  },
  {
   "cell_type": "code",
   "execution_count": 5,
   "metadata": {},
   "outputs": [],
   "source": [
    "# overlap patch embedding\n",
    "\n",
    "class OverlapPatchEmbedding(nn.Module):\n",
    "    def __init__(self, in_channels, embbed_dim):\n",
    "        super(OverlapPatchEmbedding, self).__init__()\n",
    "\n",
    "        # input: [B, C, H, W]\n",
    "        self.c_in = in_channels\n",
    "        self.c_out = embbed_dim\n",
    "\n",
    "        self.encode = nn.Conv2d(in_channels=self.c_in, out_channels=self.c_out, kernel_size=7, stride=4, padding=3)\n",
    "\n",
    "        self.activation = nn.GELU() # added after, maybe can lead to more learning capacity\n",
    "\n",
    "        self.decode = nn.ConvTranspose2d(in_channels=self.c_out, out_channels=self.c_out, kernel_size=6, stride=4, padding=1)\n",
    "\n",
    "    \n",
    "    def forward(self, x):\n",
    "        return self.decode(self.activation(self.encode(x)))"
   ]
  },
  {
   "cell_type": "code",
   "execution_count": 6,
   "metadata": {},
   "outputs": [],
   "source": [
    "# self-attention - transformer block\n",
    "\n",
    "class SelfAttention(nn.Module):\n",
    "    def __init__(self, embedd_dim):\n",
    "        super(SelfAttention, self).__init__()\n",
    "\n",
    "        self.query_weight = nn.Linear(in_features=embedd_dim, out_features=embedd_dim)\n",
    "        self.key_weight = nn.Linear(in_features=embedd_dim, out_features=embedd_dim)\n",
    "        self.value_weight = nn.Linear(in_features=embedd_dim, out_features=embedd_dim)\n",
    "\n",
    "    \n",
    "    def forward(self, x):\n",
    "        B, C, H, W = x.size()\n",
    "\n",
    "        x = x.reshape(B, H*W, C)\n",
    "\n",
    "        # query, key and value tensors\n",
    "        q = self.query_weight(x)\n",
    "        k = self.key_weight(x)\n",
    "        v = self.value_weight(x)\n",
    "\n",
    "        scaled = torch.bmm(q, k.transpose(1, 2))\n",
    "\n",
    "        scaled = F.softmax(scaled / math.sqrt(C), dim=-1)\n",
    "\n",
    "        attention = torch.bmm(scaled, v)\n",
    "\n",
    "        return attention.reshape(B, C, H, W)\n",
    "\n",
    "\n",
    "\n"
   ]
  },
  {
   "cell_type": "code",
   "execution_count": 7,
   "metadata": {},
   "outputs": [],
   "source": [
    "class MIX_FFN(nn.Module):\n",
    "    def __init__(self, embedd_dim):\n",
    "        super(MIX_FFN, self).__init__()\n",
    "\n",
    "        self.mlp1 = nn.Linear(embedd_dim, 2 * embedd_dim)\n",
    "        \n",
    "        self.conv = nn.Conv2d(2 * embedd_dim, 2 * embedd_dim, kernel_size=3, padding=1, stride=1)\n",
    "\n",
    "        self.activation = nn.GELU()\n",
    "\n",
    "        self.mlp2 = nn.Linear(2 * embedd_dim, embedd_dim)\n",
    "\n",
    "\n",
    "\n",
    "    def forward(self, x):\n",
    "        B, C, H , W = x.size()\n",
    "        x_ = x\n",
    "\n",
    "        # mlp1\n",
    "        x = to_mlp(x)\n",
    "        x = self.mlp1(x)\n",
    "\n",
    "        # conv\n",
    "        x = to_chw(x, [B, 2*C, H, W])\n",
    "        x = self.conv(x)\n",
    "\n",
    "        # gelu\n",
    "        x = self.activation(x)\n",
    "\n",
    "        # mlp2\n",
    "        x = to_mlp(x)\n",
    "        x = self.mlp2(x)\n",
    "        x = to_chw(x, [B, C, H, W])\n",
    "\n",
    "        return x + x_"
   ]
  },
  {
   "cell_type": "code",
   "execution_count": 8,
   "metadata": {},
   "outputs": [
    {
     "data": {
      "text/plain": [
       "torch.Size([16, 32, 22, 16])"
      ]
     },
     "execution_count": 8,
     "metadata": {},
     "output_type": "execute_result"
    }
   ],
   "source": [
    "ffn = MIX_FFN(32)\n",
    "x = torch.randn(16, 32, 22,16)\n",
    "ffn(x).shape"
   ]
  },
  {
   "cell_type": "code",
   "execution_count": 9,
   "metadata": {},
   "outputs": [],
   "source": [
    "class OverlapPatchMerging(nn.Module):\n",
    "    def __init__(self, embedd_dim):\n",
    "        super(OverlapPatchMerging, self).__init__()\n",
    "        # divide as dimensões espaciais por 2]\n",
    "        # no artigo original, divide-se as dimensões espaciais por 4, mas por questão do formato dos dados do microCT, vamos dividir apenas por 2\n",
    "        self.conv = nn.Conv2d(embedd_dim, 2*embedd_dim, kernel_size=7, stride=2, padding=3)\n",
    "\n",
    "    def forward(self, x):\n",
    "        return self.conv(x)\n",
    "    "
   ]
  },
  {
   "cell_type": "code",
   "execution_count": 10,
   "metadata": {},
   "outputs": [
    {
     "data": {
      "text/plain": [
       "torch.Size([16, 64, 11, 8])"
      ]
     },
     "execution_count": 10,
     "metadata": {},
     "output_type": "execute_result"
    }
   ],
   "source": [
    "opm = OverlapPatchMerging(32)\n",
    "opm(x).shape"
   ]
  },
  {
   "cell_type": "code",
   "execution_count": 11,
   "metadata": {},
   "outputs": [],
   "source": [
    "class TransformerChain(nn.Module):\n",
    "    def __init__(self, embedd_dim):\n",
    "        super(TransformerChain, self).__init__()\n",
    "\n",
    "        # 4 self-att\n",
    "        # 4 mix-ffn\n",
    "\n",
    "        self.att1 = SelfAttention(embedd_dim)\n",
    "        self.ffn1 = MIX_FFN(embedd_dim)\n",
    "\n",
    "        self.att2 = SelfAttention(embedd_dim)\n",
    "        self.ffn2 = MIX_FFN(embedd_dim)\n",
    "\n",
    "        self.att3 = SelfAttention(embedd_dim)\n",
    "        self.ffn3 = MIX_FFN(embedd_dim)\n",
    "\n",
    "        self.att4 = SelfAttention(embedd_dim)\n",
    "        self.ffn4 = MIX_FFN(embedd_dim)\n",
    "\n",
    "    def forward(self, x):\n",
    "        return self.ffn4(self.att4(self.ffn3(self.att3(self.ffn2(self.att2(self.ffn1(self.att1(x))))))))"
   ]
  },
  {
   "cell_type": "code",
   "execution_count": 12,
   "metadata": {},
   "outputs": [
    {
     "data": {
      "text/plain": [
       "torch.Size([16, 2, 10, 5])"
      ]
     },
     "execution_count": 12,
     "metadata": {},
     "output_type": "execute_result"
    }
   ],
   "source": [
    "t = TransformerChain(2)\n",
    "x = torch.randn(16, 2, 10, 5)\n",
    "t(x).shape"
   ]
  },
  {
   "cell_type": "code",
   "execution_count": null,
   "metadata": {},
   "outputs": [],
   "source": []
  }
 ],
 "metadata": {
  "kernelspec": {
   "display_name": "venv",
   "language": "python",
   "name": "python3"
  },
  "language_info": {
   "codemirror_mode": {
    "name": "ipython",
    "version": 3
   },
   "file_extension": ".py",
   "mimetype": "text/x-python",
   "name": "python",
   "nbconvert_exporter": "python",
   "pygments_lexer": "ipython3",
   "version": "3.10.7"
  }
 },
 "nbformat": 4,
 "nbformat_minor": 2
}
