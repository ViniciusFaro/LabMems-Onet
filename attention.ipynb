{
 "cells": [
  {
   "cell_type": "markdown",
   "metadata": {},
   "source": [
    "## Understanding Self Attention mechanism on images"
   ]
  },
  {
   "cell_type": "code",
   "execution_count": 7,
   "metadata": {},
   "outputs": [],
   "source": [
    "import torch\n",
    "import torch.nn as nn\n",
    "import torch.nn.functional as F\n"
   ]
  },
  {
   "cell_type": "code",
   "execution_count": 29,
   "metadata": {},
   "outputs": [],
   "source": [
    "class SelfAttention(nn.Module):\n",
    "    def __init__(self, in_channels: int):\n",
    "        super(SelfAttention, self).__init__()\n",
    "        self.in_channels = in_channels\n",
    "        \n",
    "        self.query_conv = nn.Conv2d(in_channels, in_channels // 8, kernel_size=1) # dimensionality reduction\n",
    "        self.key_conv = nn.Conv2d(in_channels, in_channels // 8, kernel_size=1) # dimensionality reduction\n",
    "        self.value_conv = nn.Conv2d(in_channels, in_channels, kernel_size=1)\n",
    "        \n",
    "        self.gamma = nn.Parameter(torch.zeros(1)) # scalar to represent the \"relevance\" of the attention\n",
    "        \n",
    "    def forward(self, x: torch.Tensor):\n",
    "        batch_size, C, width, height = x.size() # get shape of tensor\n",
    "        \n",
    "        proj_query = self.query_conv(x).view(batch_size, -1, width * height).permute(0, 2, 1)  # B x N x C # where N = width * height #  B x N x C where N is analogou as the countext length and C is the embedding dimension\n",
    "        proj_key = self.key_conv(x).view(batch_size, -1, width * height)  # B x C x N # where N = width * height # the transposed of the query tensor\n",
    "        energy = torch.bmm(proj_query, proj_key)  # B x N x N # batch matmul\n",
    "        attention = F.softmax(energy, dim=-1)  # B x N x N # regular attention softmax implementation\n",
    "        proj_value = self.value_conv(x).view(batch_size, -1, width * height).permute(0, 2, 1)  # B x N x C\n",
    "        \n",
    "        out = torch.bmm(attention, proj_value)  # B x N x C\n",
    "        out = out.permute(0, 2, 1) # B x C x N\n",
    "        out = out.view(batch_size, C, width, height) # B x C x H x W\n",
    "        \n",
    "        out = self.gamma * out + x # attention added as a residual\n",
    "        return out # B x C x H x W\n"
   ]
  },
  {
   "cell_type": "code",
   "execution_count": 30,
   "metadata": {},
   "outputs": [],
   "source": [
    "x = torch.randn([1, 32, 64, 60])"
   ]
  },
  {
   "cell_type": "code",
   "execution_count": 31,
   "metadata": {},
   "outputs": [
    {
     "data": {
      "text/plain": [
       "torch.Size([1, 32, 64, 60])"
      ]
     },
     "execution_count": 31,
     "metadata": {},
     "output_type": "execute_result"
    }
   ],
   "source": [
    "self_attention =  SelfAttention(32)\n",
    "\n",
    "self_attention(x).shape\n"
   ]
  }
 ],
 "metadata": {
  "kernelspec": {
   "display_name": "venv",
   "language": "python",
   "name": "python3"
  },
  "language_info": {
   "codemirror_mode": {
    "name": "ipython",
    "version": 3
   },
   "file_extension": ".py",
   "mimetype": "text/x-python",
   "name": "python",
   "nbconvert_exporter": "python",
   "pygments_lexer": "ipython3",
   "version": "3.10.7"
  }
 },
 "nbformat": 4,
 "nbformat_minor": 2
}
